{
 "cells": [
  {
   "cell_type": "markdown",
   "id": "aca6b4e3",
   "metadata": {},
   "source": [
    "# NUMPY ASSIGNMENT II"
   ]
  },
  {
   "cell_type": "code",
   "execution_count": 2,
   "id": "95036cbd",
   "metadata": {},
   "outputs": [],
   "source": [
    "import numpy as np"
   ]
  },
  {
   "cell_type": "code",
   "execution_count": 9,
   "id": "a95688c5",
   "metadata": {},
   "outputs": [
    {
     "data": {
      "text/plain": [
       "array([6, 7, 4, 0, 2])"
      ]
     },
     "execution_count": 9,
     "metadata": {},
     "output_type": "execute_result"
    }
   ],
   "source": [
    "# Write a NumPy program to create a vector of length 5 filled with arbitrary integers from 0 to 10\n",
    "vector = np.random.randint(0, 11, size=5)\n",
    "vector"
   ]
  },
  {
   "cell_type": "code",
   "execution_count": 10,
   "id": "38f41a9e",
   "metadata": {},
   "outputs": [
    {
     "data": {
      "text/plain": [
       "array([16, 17, 18, 19, 20, 21, 22, 23, 24, 25, 26, 27, 28, 29, 30, 31, 32,\n",
       "       33, 34, 35, 36, 37, 38, 39, 40, 41, 42, 43, 44, 45, 46, 47, 48, 49,\n",
       "       50, 51, 52, 53, 54])"
      ]
     },
     "execution_count": 10,
     "metadata": {},
     "output_type": "execute_result"
    }
   ],
   "source": [
    "# Write a NumPy program to create a vector with values ​​ranging from 15 to 55 and print all values​​except the first and last\n",
    "vector = np.arange(15, 56)\n",
    "vector[1:-1]"
   ]
  },
  {
   "cell_type": "code",
   "execution_count": 14,
   "id": "183dd7d8",
   "metadata": {},
   "outputs": [
    {
     "data": {
      "text/plain": [
       "array([[ 2,  4,  6],\n",
       "       [ 8, 10, 12],\n",
       "       [14, 16, 18]])"
      ]
     },
     "execution_count": 14,
     "metadata": {},
     "output_type": "execute_result"
    }
   ],
   "source": [
    "# Write a NumPy program to calculate cumulative sum of the elements along a given axis, sum over rows for each of the 3 columns and sum over columns for each of the 2 rows of a given 3x3 array.\n",
    "# creating a 3 by 3 array\n",
    "arry = np.array([[2, 4, 6], [8, 10, 12], [14, 16, 18]])\n",
    "arry"
   ]
  },
  {
   "cell_type": "code",
   "execution_count": 15,
   "id": "8402e670",
   "metadata": {},
   "outputs": [
    {
     "data": {
      "text/plain": [
       "array([[ 2,  4,  6],\n",
       "       [10, 14, 18],\n",
       "       [24, 30, 36]], dtype=int32)"
      ]
     },
     "execution_count": 15,
     "metadata": {},
     "output_type": "execute_result"
    }
   ],
   "source": [
    "# Calculating the cumulative sum over rows for each column\n",
    "rows = np.cumsum(arry, axis=0)\n",
    "rows"
   ]
  },
  {
   "cell_type": "code",
   "execution_count": 18,
   "id": "806aaed7",
   "metadata": {},
   "outputs": [
    {
     "data": {
      "text/plain": [
       "array([[ 2,  6, 12],\n",
       "       [ 8, 18, 30],\n",
       "       [14, 30, 48]], dtype=int32)"
      ]
     },
     "execution_count": 18,
     "metadata": {},
     "output_type": "execute_result"
    }
   ],
   "source": [
    "# Calculating the cumulative sum over columns for each column\n",
    "cols = np.cumsum(arry, axis=1)\n",
    "cols"
   ]
  },
  {
   "cell_type": "code",
   "execution_count": 20,
   "id": "3ebbefb5",
   "metadata": {},
   "outputs": [],
   "source": [
    "# Write a NumPy program to compute the multiplication of two given matrices. \n",
    "# creating the matrices\n",
    "matrix1 = np.array([[1, 2], [3, 4]])\n",
    "matrix2 = np.array([[2, 4], [6, 8]])\n"
   ]
  },
  {
   "cell_type": "code",
   "execution_count": 21,
   "id": "52d6a4e0",
   "metadata": {},
   "outputs": [
    {
     "data": {
      "text/plain": [
       "array([[1, 2],\n",
       "       [3, 4]])"
      ]
     },
     "execution_count": 21,
     "metadata": {},
     "output_type": "execute_result"
    }
   ],
   "source": [
    "matrix1"
   ]
  },
  {
   "cell_type": "code",
   "execution_count": 22,
   "id": "11f316a0",
   "metadata": {},
   "outputs": [
    {
     "data": {
      "text/plain": [
       "array([[2, 4],\n",
       "       [6, 8]])"
      ]
     },
     "execution_count": 22,
     "metadata": {},
     "output_type": "execute_result"
    }
   ],
   "source": [
    "matrix2"
   ]
  },
  {
   "cell_type": "code",
   "execution_count": 23,
   "id": "eab2cf9b",
   "metadata": {},
   "outputs": [
    {
     "data": {
      "text/plain": [
       "array([[14, 20],\n",
       "       [30, 44]])"
      ]
     },
     "execution_count": 23,
     "metadata": {},
     "output_type": "execute_result"
    }
   ],
   "source": [
    "# multipling the two matrices\n",
    "result = np.dot(matrix1, matrix2)\n",
    "result"
   ]
  },
  {
   "cell_type": "code",
   "execution_count": null,
   "id": "ad68d898",
   "metadata": {},
   "outputs": [],
   "source": []
  }
 ],
 "metadata": {
  "kernelspec": {
   "display_name": "Python 3 (ipykernel)",
   "language": "python",
   "name": "python3"
  },
  "language_info": {
   "codemirror_mode": {
    "name": "ipython",
    "version": 3
   },
   "file_extension": ".py",
   "mimetype": "text/x-python",
   "name": "python",
   "nbconvert_exporter": "python",
   "pygments_lexer": "ipython3",
   "version": "3.9.7"
  }
 },
 "nbformat": 4,
 "nbformat_minor": 5
}
